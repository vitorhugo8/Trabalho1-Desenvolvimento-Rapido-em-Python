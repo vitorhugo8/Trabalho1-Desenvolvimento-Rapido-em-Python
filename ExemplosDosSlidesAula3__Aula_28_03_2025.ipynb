{
  "nbformat": 4,
  "nbformat_minor": 0,
  "metadata": {
    "colab": {
      "provenance": [],
      "authorship_tag": "ABX9TyNDp5Rifpu0aMOAsGQ28t6a",
      "include_colab_link": true
    },
    "kernelspec": {
      "name": "python3",
      "display_name": "Python 3"
    },
    "language_info": {
      "name": "python"
    }
  },
  "cells": [
    {
      "cell_type": "markdown",
      "metadata": {
        "id": "view-in-github",
        "colab_type": "text"
      },
      "source": [
        "<a href=\"https://colab.research.google.com/github/vitorhugo8/Trabalho1-Desenvolvimento-Rapido-em-Python/blob/main/ExemplosDosSlidesAula3__Aula_28_03_2025.ipynb\" target=\"_parent\"><img src=\"https://colab.research.google.com/assets/colab-badge.svg\" alt=\"Open In Colab\"/></a>"
      ]
    },
    {
      "cell_type": "markdown",
      "source": [],
      "metadata": {
        "id": "ksKb04-r2sS3"
      }
    },
    {
      "cell_type": "markdown",
      "source": [
        "# Exemplos dos slides da Aula 3\n"
      ],
      "metadata": {
        "id": "7O0bsym541D-"
      }
    },
    {
      "cell_type": "code",
      "source": [
        "\"\"\"\n",
        "Exemplo 1\n",
        "\"\"\"\n",
        "try:\n",
        "    teste = open(\"vendas.txt\", \"r\", encoding=\"utf-8\")  # Modo de leitura (r) aberto no caminho absoluto\n",
        "    print(\"O arquivo está aberto!\")\n",
        "    print(teste.read())\n",
        "    teste.close()\n",
        "# Caso o arquivo não abra (por erro ou por não estar no arquivo)\n",
        "except FileNotFoundError:\n",
        "    print(\"Arquivo não encontrado\")\n",
        "except Exception as e:\n",
        "    print(f\"Erro ao abrir o arquivo: {e}\")"
      ],
      "metadata": {
        "colab": {
          "base_uri": "https://localhost:8080/"
        },
        "id": "TOM-wmw028T2",
        "outputId": "b04a257d-5ff7-4112-ce87-0fd45bc05824"
      },
      "execution_count": null,
      "outputs": [
        {
          "output_type": "stream",
          "name": "stdout",
          "text": [
            "O arquivo está aberto!\n",
            "arquivo de teste \n",
            "\n",
            "Itens vendidos: \n",
            "Banana \n",
            "Maçã \n",
            "Pêra \n",
            "\n",
            "Preço de cada item: \n",
            "2.50 o quilo\n",
            "3.75 o quilo \n",
            "5.00 o quilo \n",
            "\n",
            "Quantos foram vendidos em Kg: \n",
            "Banana - 15kg\n",
            "Maçã - 25Kg\n",
            "Pêra - 12Kg\n",
            "\n"
          ]
        }
      ]
    },
    {
      "cell_type": "code",
      "source": [
        "\"\"\"\n",
        "Exemplo 2\n",
        "\"\"\"\n",
        "# Criando e escrevendo\n",
        "f = open(\"vendas.txt\", \"w\")\n",
        "f.write(\"texto\")\n",
        "f.close()\n",
        "\n",
        "#Lendo após a inserção do novo texto\n",
        "f = open(\"vendas.txt\", \"r\")\n",
        "print(f.read())\n",
        "f.close()"
      ],
      "metadata": {
        "colab": {
          "base_uri": "https://localhost:8080/"
        },
        "id": "yzrAk4TA3A9N",
        "outputId": "643ea8a0-bd51-411d-d642-0ab1c9921c59"
      },
      "execution_count": null,
      "outputs": [
        {
          "output_type": "stream",
          "name": "stdout",
          "text": [
            "texto\n"
          ]
        }
      ]
    },
    {
      "cell_type": "code",
      "source": [
        "\"\"\"\n",
        "Exemplo 3\n",
        "\"\"\"\n",
        "# Criando e escrevendo\n",
        "with open(\"vendas.txt\", \"w\") as v:\n",
        "    v.write(\"Banana\\n\")\n",
        "    v.write(\"Pêra\\n\")\n",
        "    v.write(\"Cenoura\")\n",
        "# Lendo o arquivo\n",
        "with open(\"vendas.txt\", \"r\") as v:\n",
        "    print(v.read())"
      ],
      "metadata": {
        "colab": {
          "base_uri": "https://localhost:8080/"
        },
        "id": "ywH_mhTa3L1s",
        "outputId": "cb5ad1ee-7279-4261-8808-2044cc48adcb"
      },
      "execution_count": null,
      "outputs": [
        {
          "output_type": "stream",
          "name": "stdout",
          "text": [
            "Banana\n",
            "Pêra\n",
            "Cenoura\n"
          ]
        }
      ]
    },
    {
      "cell_type": "code",
      "source": [
        "\"\"\"\n",
        "Exemplo 4\n",
        "\"\"\"\n",
        "f = open(\"vendas.txt\", \"r\")\n",
        "\n",
        "print(f.readline()) # Lendo primeira linha\n",
        "print(f.readline()) # Lendo segunda linha\n",
        "print(f.readline()) # Lendo terceira linha\n",
        "\n",
        "f.close()"
      ],
      "metadata": {
        "colab": {
          "base_uri": "https://localhost:8080/"
        },
        "id": "aJ79s5oC3SYC",
        "outputId": "f2acbf06-f098-45c3-a9a5-65de649e35e3"
      },
      "execution_count": null,
      "outputs": [
        {
          "output_type": "stream",
          "name": "stdout",
          "text": [
            "Banana\n",
            "\n",
            "Pêra\n",
            "\n",
            "Cenoura\n"
          ]
        }
      ]
    },
    {
      "cell_type": "code",
      "source": [
        "\"\"\"\n",
        "Exemplo 5\n",
        "\"\"\"\n",
        "f = open(\"vendas.txt\", \"r\")\n",
        "\n",
        "print(f.readlines())\n",
        "f.close()"
      ],
      "metadata": {
        "colab": {
          "base_uri": "https://localhost:8080/"
        },
        "id": "APm9yNp73fiy",
        "outputId": "2609d306-d11d-4ffc-cff7-a96baf22be97"
      },
      "execution_count": null,
      "outputs": [
        {
          "output_type": "stream",
          "name": "stdout",
          "text": [
            "['Banana\\n', 'Pêra\\n', 'Cenoura']\n"
          ]
        }
      ]
    },
    {
      "cell_type": "code",
      "source": [
        "\"\"\"\n",
        "Exemplo 6\n",
        "\"\"\"\n",
        "f = open(\"vendas.txt\", \"r\")\n",
        "\n",
        "for linha in f:\n",
        "    print(linha)\n",
        "\n",
        "f.close()"
      ],
      "metadata": {
        "colab": {
          "base_uri": "https://localhost:8080/"
        },
        "id": "29NSmWBS328J",
        "outputId": "31dd0a58-0c2d-42d7-fe6c-1bb2586b2cc0"
      },
      "execution_count": null,
      "outputs": [
        {
          "output_type": "stream",
          "name": "stdout",
          "text": [
            "Banana\n",
            "\n",
            "Pêra\n",
            "\n",
            "Cenoura\n"
          ]
        }
      ]
    },
    {
      "cell_type": "code",
      "source": [
        "\"\"\"\n",
        "Exemplo 7\n",
        "\"\"\"\n",
        "f = open(\"vendas.txt\", \"r\")\n",
        "for linha in f:\n",
        "  print(linha.split())\n",
        "f.close()"
      ],
      "metadata": {
        "colab": {
          "base_uri": "https://localhost:8080/"
        },
        "id": "tY8eUuBc3_Eo",
        "outputId": "ed1990b7-0184-4ed7-a702-d462c9f6c3db"
      },
      "execution_count": null,
      "outputs": [
        {
          "output_type": "stream",
          "name": "stdout",
          "text": [
            "['Banana']\n",
            "['Pêra']\n",
            "['Cenoura']\n"
          ]
        }
      ]
    },
    {
      "cell_type": "code",
      "source": [
        "# Exemplo 8\n",
        "\n",
        "f = open(\"arquivo.txt\", \"w+\")\n",
        "\n",
        "texto = [\"Pêra, Maçã\"]\n",
        "\n",
        "for linha in texto:\n",
        "    f.write(linha)\n",
        "    f.write(\"\\n\")\n",
        "    print(f.read())\n",
        "\n",
        "f.close()"
      ],
      "metadata": {
        "colab": {
          "base_uri": "https://localhost:8080/"
        },
        "id": "XKaa9Ht2jLuE",
        "outputId": "56dc57ba-c821-45a8-da25-18210c5239f8"
      },
      "execution_count": 8,
      "outputs": [
        {
          "output_type": "stream",
          "name": "stdout",
          "text": [
            "\n"
          ]
        }
      ]
    },
    {
      "cell_type": "code",
      "source": [
        "# Exemplo 9 - Lendo as palavras do arquivo diretamente, sem usar o readline() ou o readlines()\n",
        "f = open(\"arquivo.txt\", \"r\")\n",
        "\n",
        "for linha in f:\n",
        "  print(linha)\n",
        "\n",
        "f.close()"
      ],
      "metadata": {
        "colab": {
          "base_uri": "https://localhost:8080/"
        },
        "id": "Ec1-H7FMksNq",
        "outputId": "9f325ea8-f335-42ec-abc0-66ee44b1a5c3"
      },
      "execution_count": 9,
      "outputs": [
        {
          "output_type": "stream",
          "name": "stdout",
          "text": [
            "Pêra, Maçã\n",
            "\n"
          ]
        }
      ]
    },
    {
      "cell_type": "code",
      "source": [
        "# Exemplo 10\n",
        "f = open(\"arquivo.txt\", \"r\", encoding=\"utf-8\") # Deixando claro a codificação para que não hajam erros de portugês\n",
        "\n",
        "print(f.read())\n",
        "\n",
        "f.close()"
      ],
      "metadata": {
        "colab": {
          "base_uri": "https://localhost:8080/"
        },
        "id": "hFExW2NGk3kX",
        "outputId": "b3eafde4-9bec-45c4-e6cf-f57ee66c29d2"
      },
      "execution_count": 11,
      "outputs": [
        {
          "output_type": "stream",
          "name": "stdout",
          "text": [
            "Pêra, Maçã\n",
            "\n"
          ]
        }
      ]
    }
  ]
}